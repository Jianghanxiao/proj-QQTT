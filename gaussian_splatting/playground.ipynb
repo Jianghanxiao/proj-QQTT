{
 "cells": [
  {
   "cell_type": "code",
   "execution_count": 3,
   "metadata": {},
   "outputs": [
    {
     "name": "stdout",
     "output_type": "stream",
     "text": [
      "Jupyter environment detected. Enabling Open3D WebVisualizer.\n",
      "[Open3D INFO] WebRTC GUI backend enabled.\n",
      "[Open3D INFO] WebRTCWindowSystem: HTTP handshake server disabled.\n"
     ]
    }
   ],
   "source": [
    "import pickle\n",
    "import os\n",
    "from PIL import Image\n",
    "import numpy as np\n",
    "import open3d as o3d\n",
    "import cv2\n",
    "import matplotlib.pyplot as plt\n",
    "import pytorch3d\n",
    "import pytorch3d.ops as ops\n",
    "from plyfile import PlyData, PlyElement\n",
    "import torch\n"
   ]
  },
  {
   "cell_type": "code",
   "execution_count": 3,
   "metadata": {},
   "outputs": [],
   "source": [
    "camera_path = '/home/haoyuyh3/Documents/maxhsu/qqtt/gaussian_data/rope_double_hand/camera_meta.pkl'\n",
    "with open(camera_path, 'rb') as f:\n",
    "    camera_meta = pickle.load(f)"
   ]
  },
  {
   "cell_type": "code",
   "execution_count": 4,
   "metadata": {},
   "outputs": [
    {
     "data": {
      "text/plain": [
       "dict_keys(['c2ws', 'intrinsics'])"
      ]
     },
     "execution_count": 4,
     "metadata": {},
     "output_type": "execute_result"
    }
   ],
   "source": [
    "camera_meta.keys()"
   ]
  },
  {
   "cell_type": "code",
   "execution_count": 5,
   "metadata": {},
   "outputs": [
    {
     "data": {
      "text/plain": [
       "([array([[ 0.00156651, -0.78966319,  0.61353858, -0.25216209],\n",
       "         [ 0.99924391, -0.02259861, -0.03163717,  0.04711838],\n",
       "         [ 0.03884783,  0.61312425,  0.78903073, -0.53092488],\n",
       "         [ 0.        ,  0.        ,  0.        ,  1.        ]]),\n",
       "  array([[-0.90539951,  0.23462447, -0.35384047,  0.41877241],\n",
       "         [-0.4241047 , -0.46119884,  0.77937849, -0.6199083 ],\n",
       "         [ 0.01967044,  0.85571431,  0.51707455, -0.46490554],\n",
       "         [ 0.        ,  0.        ,  0.        ,  1.        ]]),\n",
       "  array([[ 0.79321111,  0.37078143, -0.48304997,  0.51153853],\n",
       "         [-0.60668947,  0.41294956, -0.67926471,  0.65194243],\n",
       "         [-0.05238347,  0.83186164,  0.55250537, -0.43483412],\n",
       "         [ 0.        ,  0.        ,  0.        ,  1.        ]])],\n",
       " [[[426.4139099121094, 0.0, 424.4333190917969],\n",
       "   [0.0, 426.0290832519531, 246.92410278320312],\n",
       "   [0.0, 0.0, 1.0]],\n",
       "  [[425.8751525878906, 0.0, 423.0926818847656],\n",
       "   [0.0, 425.3470153808594, 248.86141967773438],\n",
       "   [0.0, 0.0, 1.0]],\n",
       "  [[427.5965576171875, 0.0, 424.8780212402344],\n",
       "   [0.0, 427.0337219238281, 241.48138427734375],\n",
       "   [0.0, 0.0, 1.0]]])"
      ]
     },
     "execution_count": 5,
     "metadata": {},
     "output_type": "execute_result"
    }
   ],
   "source": [
    "camera_meta['c2ws'], camera_meta['intrinsics']"
   ]
  },
  {
   "cell_type": "code",
   "execution_count": 9,
   "metadata": {},
   "outputs": [
    {
     "data": {
      "text/plain": [
       "(list, list)"
      ]
     },
     "execution_count": 9,
     "metadata": {},
     "output_type": "execute_result"
    }
   ],
   "source": [
    "type(camera_meta['c2ws']), type(camera_meta['intrinsics'])"
   ]
  },
  {
   "cell_type": "code",
   "execution_count": 10,
   "metadata": {},
   "outputs": [
    {
     "name": "stdout",
     "output_type": "stream",
     "text": [
      "[array([[ 0.00156651, -0.78966319,  0.61353858, -0.25216209],\n",
      "       [ 0.99924391, -0.02259861, -0.03163717,  0.04711838],\n",
      "       [ 0.03884783,  0.61312425,  0.78903073, -0.53092488],\n",
      "       [ 0.        ,  0.        ,  0.        ,  1.        ]]), array([[-0.90539951,  0.23462447, -0.35384047,  0.41877241],\n",
      "       [-0.4241047 , -0.46119884,  0.77937849, -0.6199083 ],\n",
      "       [ 0.01967044,  0.85571431,  0.51707455, -0.46490554],\n",
      "       [ 0.        ,  0.        ,  0.        ,  1.        ]]), array([[ 0.79321111,  0.37078143, -0.48304997,  0.51153853],\n",
      "       [-0.60668947,  0.41294956, -0.67926471,  0.65194243],\n",
      "       [-0.05238347,  0.83186164,  0.55250537, -0.43483412],\n",
      "       [ 0.        ,  0.        ,  0.        ,  1.        ]])]\n"
     ]
    }
   ],
   "source": [
    "old_cam_info_path = '/home/haoyuyh3/Documents/maxhsu/qqtt/data-3dgs/rope_double_hand/calibrate.pkl'\n",
    "with open(old_cam_info_path, 'rb') as f:\n",
    "    old_cam_info = pickle.load(f)\n",
    "print(old_cam_info)"
   ]
  },
  {
   "cell_type": "code",
   "execution_count": 11,
   "metadata": {},
   "outputs": [
    {
     "name": "stdout",
     "output_type": "stream",
     "text": [
      "===== double_lift_sloth =====\n",
      "(848, 480)\n",
      "===== double_lift_zebra =====\n",
      "(848, 480)\n",
      "===== double_stretch_sloth =====\n",
      "(848, 480)\n",
      "===== double_stretch_zebra =====\n",
      "(848, 480)\n",
      "===== rope_double_hand =====\n",
      "(848, 480)\n",
      "===== single_lift_cloth =====\n",
      "(848, 480)\n",
      "===== single_lift_dinosor =====\n",
      "(848, 480)\n",
      "===== single_lift_rope =====\n",
      "(848, 480)\n",
      "===== single_lift_sloth =====\n",
      "(848, 480)\n",
      "===== single_lift_zebra =====\n",
      "(848, 480)\n",
      "===== single_push_rope =====\n",
      "(848, 480)\n",
      "===== single_push_sloth =====\n",
      "(848, 480)\n",
      "===== weird_package =====\n",
      "(848, 480)\n"
     ]
    }
   ],
   "source": [
    "dataset_dir = '/home/haoyuyh3/Documents/maxhsu/qqtt/gaussian_data'\n",
    "\n",
    "for data_name in sorted(os.listdir(dataset_dir)):\n",
    "    data_dir = os.path.join(dataset_dir, data_name)\n",
    "    img_path = os.path.join(data_dir, '0.png')\n",
    "    img = Image.open(img_path)\n",
    "    print(f\"===== {data_name} =====\")\n",
    "    print(img.size)"
   ]
  },
  {
   "cell_type": "code",
   "execution_count": 2,
   "metadata": {},
   "outputs": [
    {
     "name": "stdout",
     "output_type": "stream",
     "text": [
      "(480, 848)\n"
     ]
    }
   ],
   "source": [
    "depth_path = '/home/haoyuyh3/Documents/maxhsu/qqtt/gaussian_data/double_lift_sloth/0_depth.npy'\n",
    "depth = np.load(depth_path)\n",
    "print(depth.shape)"
   ]
  },
  {
   "cell_type": "code",
   "execution_count": 11,
   "metadata": {},
   "outputs": [],
   "source": [
    "low_mask_img_path = '/home/haoyuyh3/Documents/maxhsu/qqtt/gaussian_data/double_lift_sloth/mask_0.png'\n",
    "high_mask_img_path = '/home/haoyuyh3/Documents/maxhsu/qqtt/gaussian_data/double_lift_sloth/mask_0_high.png'\n",
    "low_mask_img = np.array(Image.open(low_mask_img_path))\n",
    "high_mask_img = np.array(Image.open(high_mask_img_path))"
   ]
  },
  {
   "cell_type": "code",
   "execution_count": 12,
   "metadata": {},
   "outputs": [
    {
     "data": {
      "text/plain": [
       "((480, 848), (1920, 3392, 4))"
      ]
     },
     "execution_count": 12,
     "metadata": {},
     "output_type": "execute_result"
    }
   ],
   "source": [
    "low_mask_img.shape, high_mask_img.shape"
   ]
  },
  {
   "cell_type": "code",
   "execution_count": 13,
   "metadata": {},
   "outputs": [
    {
     "data": {
      "text/plain": [
       "(255, 255)"
      ]
     },
     "execution_count": 13,
     "metadata": {},
     "output_type": "execute_result"
    }
   ],
   "source": [
    "low_mask_img.max(), high_mask_img.max()"
   ]
  },
  {
   "cell_type": "code",
   "execution_count": 15,
   "metadata": {},
   "outputs": [],
   "source": [
    "pcd_path = '/home/haoyuyh3/Documents/maxhsu/qqtt/gaussian_data/double_lift_sloth/observation.ply'\n",
    "pcd = o3d.io.read_point_cloud(pcd_path)\n",
    "xyz = np.asarray(pcd.points)\n",
    "colors = np.asarray(pcd.colors)\n",
    "normals = np.asarray(pcd.normals)"
   ]
  },
  {
   "cell_type": "code",
   "execution_count": 16,
   "metadata": {},
   "outputs": [
    {
     "data": {
      "text/plain": [
       "array([[ 0.35897151,  0.03304853, -0.04744178],\n",
       "       [ 0.35738807,  0.03495341, -0.04868537],\n",
       "       [ 0.35737686,  0.03667358, -0.04862318],\n",
       "       ...,\n",
       "       [ 0.35013057,  0.26766171, -0.02076484],\n",
       "       [ 0.35038169,  0.26462933, -0.01886315],\n",
       "       [ 0.35094424,  0.26230992, -0.01762203]])"
      ]
     },
     "execution_count": 16,
     "metadata": {},
     "output_type": "execute_result"
    }
   ],
   "source": [
    "xyz"
   ]
  },
  {
   "cell_type": "code",
   "execution_count": 17,
   "metadata": {},
   "outputs": [
    {
     "data": {
      "text/plain": [
       "array([[0.54117647, 0.48235294, 0.43529412],\n",
       "       [0.55294118, 0.49411765, 0.44705882],\n",
       "       [0.55294118, 0.50196078, 0.45882353],\n",
       "       ...,\n",
       "       [0.4       , 0.33333333, 0.27843137],\n",
       "       [0.40392157, 0.34509804, 0.29803922],\n",
       "       [0.42352941, 0.36470588, 0.31764706]])"
      ]
     },
     "execution_count": 17,
     "metadata": {},
     "output_type": "execute_result"
    }
   ],
   "source": [
    "colors"
   ]
  },
  {
   "cell_type": "code",
   "execution_count": 18,
   "metadata": {},
   "outputs": [
    {
     "data": {
      "text/plain": [
       "array([], shape=(0, 3), dtype=float64)"
      ]
     },
     "execution_count": 18,
     "metadata": {},
     "output_type": "execute_result"
    }
   ],
   "source": [
    "normals"
   ]
  },
  {
   "cell_type": "markdown",
   "metadata": {},
   "source": [
    "### Quickly aggregate videos"
   ]
  },
  {
   "cell_type": "code",
   "execution_count": 7,
   "metadata": {},
   "outputs": [
    {
     "name": "stdout",
     "output_type": "stream",
     "text": [
      "===== double_lift_cloth_1 =====\n",
      "===== double_lift_cloth_3 =====\n",
      "===== double_lift_sloth =====\n",
      "===== double_lift_zebra =====\n",
      "===== double_stretch_sloth =====\n",
      "===== double_stretch_zebra =====\n",
      "===== rope_double_hand =====\n",
      "===== single_clift_cloth_1 =====\n",
      "===== single_clift_cloth_3 =====\n",
      "===== single_lift_cloth =====\n",
      "===== single_lift_cloth_1 =====\n",
      "===== single_lift_cloth_3 =====\n",
      "===== single_lift_cloth_4 =====\n",
      "===== single_lift_dinosor =====\n",
      "===== single_lift_rope =====\n",
      "===== single_lift_sloth =====\n",
      "===== single_lift_zebra =====\n",
      "===== single_push_rope =====\n",
      "===== single_push_rope_1 =====\n",
      "===== single_push_rope_4 =====\n",
      "===== single_push_sloth =====\n",
      "===== weird_package =====\n"
     ]
    }
   ],
   "source": [
    "root_video_dir = '/home/haoyuyh3/Documents/maxhsu/qqtt/gaussian-recon/gaussian-splatting/output_video'\n",
    "out_video_dir = '/home/haoyuyh3/Documents/maxhsu/qqtt/gaussian-recon/gaussian-splatting/_tmp_output_video'\n",
    "os.makedirs(out_video_dir, exist_ok=True)\n",
    "\n",
    "target_video_name = 'init=hybrid_iso=True_ldepth=0.001_lnormal=0.0_laniso_0.0_lseg=1.0'\n",
    "\n",
    "for scene_name in sorted(os.listdir(root_video_dir)):\n",
    "    if scene_name.startswith('_'):\n",
    "        continue\n",
    "    video_path = os.path.join(root_video_dir, scene_name, target_video_name + '.mp4')\n",
    "    out_video_path = os.path.join(out_video_dir, scene_name + '.mp4')\n",
    "    print(f\"===== {scene_name} =====\")\n",
    "    os.system(f\"cp -r {video_path} {out_video_path}\")"
   ]
  },
  {
   "cell_type": "markdown",
   "metadata": {},
   "source": [
    "### Quickly stitch two videos"
   ]
  },
  {
   "cell_type": "code",
   "execution_count": 3,
   "metadata": {},
   "outputs": [
    {
     "name": "stdout",
     "output_type": "stream",
     "text": [
      "Export video: /home/haoyuyh3/Documents/maxhsu/qqtt/gaussian-recon/gaussian-splatting/_tmp_output_video_diff/double_lift_cloth_1.mp4.mp4\n",
      "Export video: /home/haoyuyh3/Documents/maxhsu/qqtt/gaussian-recon/gaussian-splatting/_tmp_output_video_diff/double_lift_cloth_3.mp4.mp4\n",
      "Export video: /home/haoyuyh3/Documents/maxhsu/qqtt/gaussian-recon/gaussian-splatting/_tmp_output_video_diff/double_lift_sloth.mp4.mp4\n",
      "Export video: /home/haoyuyh3/Documents/maxhsu/qqtt/gaussian-recon/gaussian-splatting/_tmp_output_video_diff/double_lift_zebra.mp4.mp4\n",
      "Export video: /home/haoyuyh3/Documents/maxhsu/qqtt/gaussian-recon/gaussian-splatting/_tmp_output_video_diff/double_stretch_sloth.mp4.mp4\n",
      "Export video: /home/haoyuyh3/Documents/maxhsu/qqtt/gaussian-recon/gaussian-splatting/_tmp_output_video_diff/double_stretch_zebra.mp4.mp4\n",
      "Export video: /home/haoyuyh3/Documents/maxhsu/qqtt/gaussian-recon/gaussian-splatting/_tmp_output_video_diff/rope_double_hand.mp4.mp4\n",
      "Export video: /home/haoyuyh3/Documents/maxhsu/qqtt/gaussian-recon/gaussian-splatting/_tmp_output_video_diff/single_clift_cloth_1.mp4.mp4\n",
      "Export video: /home/haoyuyh3/Documents/maxhsu/qqtt/gaussian-recon/gaussian-splatting/_tmp_output_video_diff/single_clift_cloth_3.mp4.mp4\n",
      "Export video: /home/haoyuyh3/Documents/maxhsu/qqtt/gaussian-recon/gaussian-splatting/_tmp_output_video_diff/single_lift_cloth.mp4.mp4\n",
      "Export video: /home/haoyuyh3/Documents/maxhsu/qqtt/gaussian-recon/gaussian-splatting/_tmp_output_video_diff/single_lift_cloth_1.mp4.mp4\n",
      "Export video: /home/haoyuyh3/Documents/maxhsu/qqtt/gaussian-recon/gaussian-splatting/_tmp_output_video_diff/single_lift_cloth_3.mp4.mp4\n",
      "Export video: /home/haoyuyh3/Documents/maxhsu/qqtt/gaussian-recon/gaussian-splatting/_tmp_output_video_diff/single_lift_cloth_4.mp4.mp4\n",
      "Export video: /home/haoyuyh3/Documents/maxhsu/qqtt/gaussian-recon/gaussian-splatting/_tmp_output_video_diff/single_lift_dinosor.mp4.mp4\n",
      "Export video: /home/haoyuyh3/Documents/maxhsu/qqtt/gaussian-recon/gaussian-splatting/_tmp_output_video_diff/single_lift_rope.mp4.mp4\n",
      "Export video: /home/haoyuyh3/Documents/maxhsu/qqtt/gaussian-recon/gaussian-splatting/_tmp_output_video_diff/single_lift_sloth.mp4.mp4\n",
      "Export video: /home/haoyuyh3/Documents/maxhsu/qqtt/gaussian-recon/gaussian-splatting/_tmp_output_video_diff/single_lift_zebra.mp4.mp4\n",
      "Export video: /home/haoyuyh3/Documents/maxhsu/qqtt/gaussian-recon/gaussian-splatting/_tmp_output_video_diff/single_push_rope.mp4.mp4\n",
      "Export video: /home/haoyuyh3/Documents/maxhsu/qqtt/gaussian-recon/gaussian-splatting/_tmp_output_video_diff/single_push_rope_1.mp4.mp4\n",
      "Export video: /home/haoyuyh3/Documents/maxhsu/qqtt/gaussian-recon/gaussian-splatting/_tmp_output_video_diff/single_push_rope_4.mp4.mp4\n",
      "Export video: /home/haoyuyh3/Documents/maxhsu/qqtt/gaussian-recon/gaussian-splatting/_tmp_output_video_diff/single_push_sloth.mp4.mp4\n",
      "Export video: /home/haoyuyh3/Documents/maxhsu/qqtt/gaussian-recon/gaussian-splatting/_tmp_output_video_diff/weird_package.mp4.mp4\n"
     ]
    }
   ],
   "source": [
    "video_dir_1 = '/home/haoyuyh3/Documents/maxhsu/qqtt/gaussian-recon/gaussian-splatting/_tmp_output_video'\n",
    "video_dir_2 = '/home/haoyuyh3/Documents/maxhsu/qqtt/gaussian-recon/gaussian-splatting/_tmp_output_video_dilate_8'\n",
    "\n",
    "out_video_dir = '/home/haoyuyh3/Documents/maxhsu/qqtt/gaussian-recon/gaussian-splatting/_tmp_output_video_diff'\n",
    "os.makedirs(out_video_dir, exist_ok=True)\n",
    "\n",
    "for scene_name in sorted(os.listdir(video_dir_1)):\n",
    "    video_path_1 = os.path.join(video_dir_1, scene_name)\n",
    "    video_path_2 = os.path.join(video_dir_2, scene_name)\n",
    "    \n",
    "    os.system(f'python /home/haoyuyh3/Documents/maxhsu/utils-script/video.py \\\n",
    "              -first {video_path_1} -second {video_path_2} -out {out_video_dir}/{scene_name} \\\n",
    "              -axis 1 -fps 15')"
   ]
  },
  {
   "cell_type": "code",
   "execution_count": 5,
   "metadata": {},
   "outputs": [
    {
     "name": "stdout",
     "output_type": "stream",
     "text": [
      "Export video: /home/haoyuyh3/Documents/maxhsu/qqtt/gaussian-recon/gaussian-splatting/output_dynamic_compare/double_lift_cloth_1/0.mp4\n",
      "Export video: /home/haoyuyh3/Documents/maxhsu/qqtt/gaussian-recon/gaussian-splatting/output_dynamic_compare/double_lift_cloth_1/1.mp4\n",
      "Export video: /home/haoyuyh3/Documents/maxhsu/qqtt/gaussian-recon/gaussian-splatting/output_dynamic_compare/double_lift_cloth_1/2.mp4\n",
      "Export video: /home/haoyuyh3/Documents/maxhsu/qqtt/gaussian-recon/gaussian-splatting/output_dynamic_compare/double_lift_cloth_3/0.mp4\n",
      "Export video: /home/haoyuyh3/Documents/maxhsu/qqtt/gaussian-recon/gaussian-splatting/output_dynamic_compare/double_lift_cloth_3/1.mp4\n",
      "Export video: /home/haoyuyh3/Documents/maxhsu/qqtt/gaussian-recon/gaussian-splatting/output_dynamic_compare/double_lift_cloth_3/2.mp4\n",
      "Export video: /home/haoyuyh3/Documents/maxhsu/qqtt/gaussian-recon/gaussian-splatting/output_dynamic_compare/double_lift_sloth/0.mp4\n",
      "Export video: /home/haoyuyh3/Documents/maxhsu/qqtt/gaussian-recon/gaussian-splatting/output_dynamic_compare/double_lift_sloth/1.mp4\n",
      "Export video: /home/haoyuyh3/Documents/maxhsu/qqtt/gaussian-recon/gaussian-splatting/output_dynamic_compare/double_lift_sloth/2.mp4\n",
      "Export video: /home/haoyuyh3/Documents/maxhsu/qqtt/gaussian-recon/gaussian-splatting/output_dynamic_compare/double_lift_zebra/0.mp4\n",
      "Export video: /home/haoyuyh3/Documents/maxhsu/qqtt/gaussian-recon/gaussian-splatting/output_dynamic_compare/double_lift_zebra/1.mp4\n",
      "Export video: /home/haoyuyh3/Documents/maxhsu/qqtt/gaussian-recon/gaussian-splatting/output_dynamic_compare/double_lift_zebra/2.mp4\n",
      "Export video: /home/haoyuyh3/Documents/maxhsu/qqtt/gaussian-recon/gaussian-splatting/output_dynamic_compare/double_stretch_sloth/0.mp4\n",
      "Export video: /home/haoyuyh3/Documents/maxhsu/qqtt/gaussian-recon/gaussian-splatting/output_dynamic_compare/double_stretch_sloth/1.mp4\n",
      "Export video: /home/haoyuyh3/Documents/maxhsu/qqtt/gaussian-recon/gaussian-splatting/output_dynamic_compare/double_stretch_sloth/2.mp4\n",
      "Export video: /home/haoyuyh3/Documents/maxhsu/qqtt/gaussian-recon/gaussian-splatting/output_dynamic_compare/double_stretch_zebra/0.mp4\n",
      "Export video: /home/haoyuyh3/Documents/maxhsu/qqtt/gaussian-recon/gaussian-splatting/output_dynamic_compare/double_stretch_zebra/1.mp4\n",
      "Export video: /home/haoyuyh3/Documents/maxhsu/qqtt/gaussian-recon/gaussian-splatting/output_dynamic_compare/double_stretch_zebra/2.mp4\n",
      "Export video: /home/haoyuyh3/Documents/maxhsu/qqtt/gaussian-recon/gaussian-splatting/output_dynamic_compare/rope_double_hand/0.mp4\n",
      "Export video: /home/haoyuyh3/Documents/maxhsu/qqtt/gaussian-recon/gaussian-splatting/output_dynamic_compare/rope_double_hand/1.mp4\n",
      "Export video: /home/haoyuyh3/Documents/maxhsu/qqtt/gaussian-recon/gaussian-splatting/output_dynamic_compare/rope_double_hand/2.mp4\n",
      "Export video: /home/haoyuyh3/Documents/maxhsu/qqtt/gaussian-recon/gaussian-splatting/output_dynamic_compare/single_clift_cloth_1/0.mp4\n",
      "Export video: /home/haoyuyh3/Documents/maxhsu/qqtt/gaussian-recon/gaussian-splatting/output_dynamic_compare/single_clift_cloth_1/1.mp4\n",
      "Export video: /home/haoyuyh3/Documents/maxhsu/qqtt/gaussian-recon/gaussian-splatting/output_dynamic_compare/single_clift_cloth_1/2.mp4\n",
      "Export video: /home/haoyuyh3/Documents/maxhsu/qqtt/gaussian-recon/gaussian-splatting/output_dynamic_compare/single_clift_cloth_3/0.mp4\n",
      "Export video: /home/haoyuyh3/Documents/maxhsu/qqtt/gaussian-recon/gaussian-splatting/output_dynamic_compare/single_clift_cloth_3/1.mp4\n",
      "Export video: /home/haoyuyh3/Documents/maxhsu/qqtt/gaussian-recon/gaussian-splatting/output_dynamic_compare/single_clift_cloth_3/2.mp4\n",
      "Export video: /home/haoyuyh3/Documents/maxhsu/qqtt/gaussian-recon/gaussian-splatting/output_dynamic_compare/single_lift_cloth/0.mp4\n",
      "Export video: /home/haoyuyh3/Documents/maxhsu/qqtt/gaussian-recon/gaussian-splatting/output_dynamic_compare/single_lift_cloth/1.mp4\n",
      "Export video: /home/haoyuyh3/Documents/maxhsu/qqtt/gaussian-recon/gaussian-splatting/output_dynamic_compare/single_lift_cloth/2.mp4\n",
      "Export video: /home/haoyuyh3/Documents/maxhsu/qqtt/gaussian-recon/gaussian-splatting/output_dynamic_compare/single_lift_cloth_1/0.mp4\n",
      "Export video: /home/haoyuyh3/Documents/maxhsu/qqtt/gaussian-recon/gaussian-splatting/output_dynamic_compare/single_lift_cloth_1/1.mp4\n",
      "Export video: /home/haoyuyh3/Documents/maxhsu/qqtt/gaussian-recon/gaussian-splatting/output_dynamic_compare/single_lift_cloth_1/2.mp4\n",
      "Export video: /home/haoyuyh3/Documents/maxhsu/qqtt/gaussian-recon/gaussian-splatting/output_dynamic_compare/single_lift_cloth_3/0.mp4\n",
      "Export video: /home/haoyuyh3/Documents/maxhsu/qqtt/gaussian-recon/gaussian-splatting/output_dynamic_compare/single_lift_cloth_3/1.mp4\n",
      "Export video: /home/haoyuyh3/Documents/maxhsu/qqtt/gaussian-recon/gaussian-splatting/output_dynamic_compare/single_lift_cloth_3/2.mp4\n",
      "Export video: /home/haoyuyh3/Documents/maxhsu/qqtt/gaussian-recon/gaussian-splatting/output_dynamic_compare/single_lift_cloth_4/0.mp4\n",
      "Export video: /home/haoyuyh3/Documents/maxhsu/qqtt/gaussian-recon/gaussian-splatting/output_dynamic_compare/single_lift_cloth_4/1.mp4\n",
      "Export video: /home/haoyuyh3/Documents/maxhsu/qqtt/gaussian-recon/gaussian-splatting/output_dynamic_compare/single_lift_cloth_4/2.mp4\n",
      "Export video: /home/haoyuyh3/Documents/maxhsu/qqtt/gaussian-recon/gaussian-splatting/output_dynamic_compare/single_lift_dinosor/0.mp4\n",
      "Export video: /home/haoyuyh3/Documents/maxhsu/qqtt/gaussian-recon/gaussian-splatting/output_dynamic_compare/single_lift_dinosor/1.mp4\n",
      "Export video: /home/haoyuyh3/Documents/maxhsu/qqtt/gaussian-recon/gaussian-splatting/output_dynamic_compare/single_lift_dinosor/2.mp4\n",
      "Export video: /home/haoyuyh3/Documents/maxhsu/qqtt/gaussian-recon/gaussian-splatting/output_dynamic_compare/single_lift_rope/0.mp4\n",
      "Export video: /home/haoyuyh3/Documents/maxhsu/qqtt/gaussian-recon/gaussian-splatting/output_dynamic_compare/single_lift_rope/1.mp4\n",
      "Export video: /home/haoyuyh3/Documents/maxhsu/qqtt/gaussian-recon/gaussian-splatting/output_dynamic_compare/single_lift_rope/2.mp4\n",
      "Export video: /home/haoyuyh3/Documents/maxhsu/qqtt/gaussian-recon/gaussian-splatting/output_dynamic_compare/single_lift_sloth/0.mp4\n",
      "Export video: /home/haoyuyh3/Documents/maxhsu/qqtt/gaussian-recon/gaussian-splatting/output_dynamic_compare/single_lift_sloth/1.mp4\n",
      "Export video: /home/haoyuyh3/Documents/maxhsu/qqtt/gaussian-recon/gaussian-splatting/output_dynamic_compare/single_lift_sloth/2.mp4\n",
      "Export video: /home/haoyuyh3/Documents/maxhsu/qqtt/gaussian-recon/gaussian-splatting/output_dynamic_compare/single_lift_zebra/0.mp4\n",
      "Export video: /home/haoyuyh3/Documents/maxhsu/qqtt/gaussian-recon/gaussian-splatting/output_dynamic_compare/single_lift_zebra/1.mp4\n",
      "Export video: /home/haoyuyh3/Documents/maxhsu/qqtt/gaussian-recon/gaussian-splatting/output_dynamic_compare/single_lift_zebra/2.mp4\n",
      "Export video: /home/haoyuyh3/Documents/maxhsu/qqtt/gaussian-recon/gaussian-splatting/output_dynamic_compare/single_push_rope/0.mp4\n",
      "Export video: /home/haoyuyh3/Documents/maxhsu/qqtt/gaussian-recon/gaussian-splatting/output_dynamic_compare/single_push_rope/1.mp4\n",
      "Export video: /home/haoyuyh3/Documents/maxhsu/qqtt/gaussian-recon/gaussian-splatting/output_dynamic_compare/single_push_rope/2.mp4\n",
      "Export video: /home/haoyuyh3/Documents/maxhsu/qqtt/gaussian-recon/gaussian-splatting/output_dynamic_compare/single_push_rope_1/0.mp4\n",
      "Export video: /home/haoyuyh3/Documents/maxhsu/qqtt/gaussian-recon/gaussian-splatting/output_dynamic_compare/single_push_rope_1/1.mp4\n",
      "Export video: /home/haoyuyh3/Documents/maxhsu/qqtt/gaussian-recon/gaussian-splatting/output_dynamic_compare/single_push_rope_1/2.mp4\n",
      "Export video: /home/haoyuyh3/Documents/maxhsu/qqtt/gaussian-recon/gaussian-splatting/output_dynamic_compare/single_push_rope_4/0.mp4\n",
      "Export video: /home/haoyuyh3/Documents/maxhsu/qqtt/gaussian-recon/gaussian-splatting/output_dynamic_compare/single_push_rope_4/1.mp4\n",
      "Export video: /home/haoyuyh3/Documents/maxhsu/qqtt/gaussian-recon/gaussian-splatting/output_dynamic_compare/single_push_rope_4/2.mp4\n",
      "Export video: /home/haoyuyh3/Documents/maxhsu/qqtt/gaussian-recon/gaussian-splatting/output_dynamic_compare/single_push_sloth/0.mp4\n",
      "Export video: /home/haoyuyh3/Documents/maxhsu/qqtt/gaussian-recon/gaussian-splatting/output_dynamic_compare/single_push_sloth/1.mp4\n",
      "Export video: /home/haoyuyh3/Documents/maxhsu/qqtt/gaussian-recon/gaussian-splatting/output_dynamic_compare/single_push_sloth/2.mp4\n",
      "Export video: /home/haoyuyh3/Documents/maxhsu/qqtt/gaussian-recon/gaussian-splatting/output_dynamic_compare/weird_package/0.mp4\n",
      "Export video: /home/haoyuyh3/Documents/maxhsu/qqtt/gaussian-recon/gaussian-splatting/output_dynamic_compare/weird_package/1.mp4\n",
      "Export video: /home/haoyuyh3/Documents/maxhsu/qqtt/gaussian-recon/gaussian-splatting/output_dynamic_compare/weird_package/2.mp4\n"
     ]
    }
   ],
   "source": [
    "root_video_dir_1 = '/home/haoyuyh3/Documents/maxhsu/qqtt/gaussian-recon/gaussian-splatting/output_dynamic_fixed_relation'\n",
    "root_video_dir_2 = '/home/haoyuyh3/Documents/maxhsu/qqtt/gaussian-recon/gaussian-splatting/output_dynamic_vary_relation'\n",
    "out_video_dir = '/home/haoyuyh3/Documents/maxhsu/qqtt/gaussian-recon/gaussian-splatting/output_dynamic_compare'\n",
    "os.makedirs(out_video_dir, exist_ok=True)\n",
    "\n",
    "for scene_name in sorted(os.listdir(root_video_dir)):\n",
    "    if scene_name.startswith('_'):\n",
    "        continue\n",
    "    out_scene_dir = os.path.join(out_video_dir, scene_name)\n",
    "    os.makedirs(out_scene_dir, exist_ok=True)\n",
    "    for view_idx in range(3):\n",
    "        video_path_1 = os.path.join(root_video_dir_1, scene_name, str(view_idx) + '.mp4')\n",
    "        video_path_2 = os.path.join(root_video_dir_2, scene_name, str(view_idx) + '.mp4')\n",
    "        out_video_path = os.path.join(out_scene_dir, str(view_idx) + '.mp4')\n",
    "        os.system(f'python /home/haoyuyh3/Documents/maxhsu/utils-script/video.py \\\n",
    "              -first {video_path_1} -second {video_path_2} -out {out_video_path} \\\n",
    "              -axis 1 -fps 15')"
   ]
  },
  {
   "cell_type": "markdown",
   "metadata": {},
   "source": [
    "### Quickly overlay two masks"
   ]
  },
  {
   "cell_type": "code",
   "execution_count": 18,
   "metadata": {},
   "outputs": [
    {
     "data": {
      "text/plain": [
       "<matplotlib.image.AxesImage at 0x7f3ec9a72dd0>"
      ]
     },
     "execution_count": 18,
     "metadata": {},
     "output_type": "execute_result"
    },
    {
     "data": {
      "image/png": "[encoded data removed]",
      "text/plain": [
       "<Figure size 1200x600 with 1 Axes>"
      ]
     },
     "metadata": {},
     "output_type": "display_data"
    }
   ],
   "source": [
    "scene_name = 'single_lift_cloth_3'\n",
    "# scene_name = 'single_lift_cloth_4'\n",
    "\n",
    "mask_1_path = f'/home/haoyuyh3/Documents/maxhsu/qqtt/gaussian_data/{scene_name}/mask_0.png'\n",
    "mask_2_path = f'/home/haoyuyh3/Documents/maxhsu/qqtt/gaussian_data/{scene_name}/mask_human_0.png'\n",
    "\n",
    "mask_1 = np.array(Image.open(mask_1_path))\n",
    "mask_2 = np.array(Image.open(mask_2_path))\n",
    "\n",
    "if len(mask_1.shape) == 3:\n",
    "    mask_1 = mask_1[:, :, -1]\n",
    "if len(mask_2.shape) == 3:\n",
    "    mask_2 = mask_2[:, :, -1]\n",
    "\n",
    "kernel_size = 8\n",
    "mask_2 = cv2.dilate(mask_2, np.ones((kernel_size, kernel_size), np.uint8), iterations=1)\n",
    "\n",
    "combined_mask = mask_1 + mask_2\n",
    "\n",
    "plt.figure(figsize=(12, 6))\n",
    "plt.imshow(combined_mask)"
   ]
  },
  {
   "cell_type": "markdown",
   "metadata": {},
   "source": [
    "### Unifrom Sampling 3D Points from meshes"
   ]
  },
  {
   "cell_type": "code",
   "execution_count": 42,
   "metadata": {},
   "outputs": [
    {
     "name": "stdout",
     "output_type": "stream",
     "text": [
      "(100000, 3)\n"
     ]
    }
   ],
   "source": [
    "mesh_path = '/home/haoyuyh3/Documents/maxhsu/qqtt/gaussian_data/double_stretch_zebra/shape_prior.glb'\n",
    "mesh = o3d.io.read_triangle_mesh(mesh_path)\n",
    "N_SAMPLES = 100_000\n",
    "sampled_points = np.asarray(mesh.sample_points_uniformly(number_of_points=N_SAMPLES).points)\n",
    "print(sampled_points.shape)\n",
    "# save_pcd = o3d.geometry.PointCloud()\n",
    "# save_pcd.points = o3d.utility.Vector3dVector(sampled_points)\n",
    "# o3d.io.write_point_cloud('./_tmp_sampled_points.ply', save_pcd)\n"
   ]
  },
  {
   "cell_type": "markdown",
   "metadata": {},
   "source": [
    "### Compute closest distance between two point sets"
   ]
  },
  {
   "cell_type": "code",
   "execution_count": 115,
   "metadata": {},
   "outputs": [
    {
     "name": "stdout",
     "output_type": "stream",
     "text": [
      "(100000, 3)\n",
      "(90613, 3)\n"
     ]
    }
   ],
   "source": [
    "# scene_name = 'double_stretch_zebra'\n",
    "scene_name = 'rope_double_hand'\n",
    "\n",
    "mesh_path = f'/home/haoyuyh3/Documents/maxhsu/qqtt/gaussian_data/{scene_name}/shape_prior.glb'\n",
    "mesh = o3d.io.read_triangle_mesh(mesh_path)\n",
    "N_SAMPLES = 100_000\n",
    "sampled_points = np.asarray(mesh.sample_points_uniformly(number_of_points=N_SAMPLES).points)\n",
    "print(sampled_points.shape)\n",
    "\n",
    "gaussians_path = f'./output/{scene_name}/init=hybrid_iso=True_ldepth=0.001_lnormal=0.0_laniso_0.0_lseg=1.0/point_cloud/iteration_10000/point_cloud.ply'\n",
    "plydata = PlyData.read(gaussians_path)\n",
    "gaussians_points = np.stack((np.asarray(plydata.elements[0][\"x\"]),\n",
    "                        np.asarray(plydata.elements[0][\"y\"]),\n",
    "                        np.asarray(plydata.elements[0][\"z\"])),  axis=1)\n",
    "print(gaussians_points.shape)\n",
    "\n",
    "sampled_points = torch.tensor(sampled_points, dtype=torch.float32).to('cuda')\n",
    "gaussians_points = torch.tensor(gaussians_points, dtype=torch.float32).to('cuda')"
   ]
  },
  {
   "cell_type": "code",
   "execution_count": 116,
   "metadata": {},
   "outputs": [],
   "source": [
    "dists_bq = ops.ball_query(gaussians_points.unsqueeze(0), sampled_points.unsqueeze(0), K=1, radius=0.01)"
   ]
  },
  {
   "cell_type": "code",
   "execution_count": 117,
   "metadata": {},
   "outputs": [
    {
     "name": "stdout",
     "output_type": "stream",
     "text": [
      "outlier ratio: 0.005606259685009718\n",
      "torch.Size([90613, 1])\n",
      "tensor(1.0000e-04, device='cuda:0') tensor(0., device='cuda:0')\n"
     ]
    }
   ],
   "source": [
    "print(\"outlier ratio:\", ((dists_bq[1].squeeze(0) == -1).sum() / dists_bq[1].squeeze(0).numel()).item())\n",
    "print(dists_bq[1].squeeze(0).shape)\n",
    "print(dists_bq[0].squeeze(0).max(), dists_bq[0].squeeze(0).min())"
   ]
  },
  {
   "cell_type": "code",
   "execution_count": 118,
   "metadata": {},
   "outputs": [],
   "source": [
    "dists_knn = ops.knn_points(gaussians_points.unsqueeze(0), sampled_points.unsqueeze(0), K=1, norm=2)"
   ]
  },
  {
   "cell_type": "code",
   "execution_count": 119,
   "metadata": {},
   "outputs": [
    {
     "data": {
      "text/plain": [
       "(0.0010009745601564646, 4.112093998642763e-11)"
      ]
     },
     "execution_count": 119,
     "metadata": {},
     "output_type": "execute_result"
    }
   ],
   "source": [
    "dists_knn[0].squeeze(0).max().item(), dists_knn[0].squeeze(0).min().item()"
   ]
  },
  {
   "cell_type": "code",
   "execution_count": 113,
   "metadata": {},
   "outputs": [
    {
     "data": {
      "text/plain": [
       "(torch.Size([1, 180367, 1]),\n",
       " tensor([[7.9680e-05],\n",
       "         [1.8511e-06],\n",
       "         [3.0873e-07],\n",
       "         ...,\n",
       "         [1.6235e-04],\n",
       "         [6.2864e-07],\n",
       "         [5.4014e-06]], device='cuda:0'))"
      ]
     },
     "execution_count": 113,
     "metadata": {},
     "output_type": "execute_result"
    }
   ],
   "source": [
    "dists_knn[0].shape, dists_knn[0].squeeze(0)"
   ]
  },
  {
   "cell_type": "markdown",
   "metadata": {},
   "source": [
    "### Quickly aggregate dynamic rendering results & videos"
   ]
  },
  {
   "cell_type": "code",
   "execution_count": 3,
   "metadata": {},
   "outputs": [],
   "source": [
    "root_render_dir = '/home/haoyuyh3/Documents/maxhsu/qqtt/gaussian-recon/gaussian-splatting/output'\n",
    "root_video_dir = '/home/haoyuyh3/Documents/maxhsu/qqtt/gaussian-recon/gaussian-splatting/output_video'\n",
    "out_dynamic_dir = '/home/haoyuyh3/Documents/maxhsu/qqtt/gaussian-recon/gaussian-splatting/output_dynamic'\n",
    "os.makedirs(out_dynamic_dir, exist_ok=True)\n",
    "\n",
    "frame_to_cam_id = {\n",
    "    '00000': 0,\n",
    "    '00050': 1,\n",
    "    '00100': 2,\n",
    "}\n",
    "\n",
    "target_name = 'init=hybrid_iso=True_ldepth=0.001_lnormal=0.0_laniso_0.0_lseg=1.0'\n",
    "\n",
    "for scene_name in sorted(os.listdir(root_render_dir)):\n",
    "    \n",
    "    if scene_name.startswith('_'):\n",
    "        continue\n",
    "\n",
    "    out_dir = os.path.join(out_dynamic_dir, scene_name)\n",
    "    os.makedirs(out_dir, exist_ok=True)\n",
    "\n",
    "    # copy videos\n",
    "    for f_idx, cam_id in frame_to_cam_id.items():\n",
    "        video_path = os.path.join(root_video_dir, scene_name, 'dynamic', target_name, f_idx + '.mp4')\n",
    "        out_video_path = os.path.join(out_dir, str(cam_id) + '.mp4')\n",
    "        os.system(f\"cp -r {video_path} {out_video_path}\")\n",
    "\n",
    "    # copy images\n",
    "    for f_idx, cam_id in frame_to_cam_id.items():\n",
    "        img_dir = os.path.join(root_render_dir, scene_name, target_name, 'dynamic', f_idx)\n",
    "        out_img_dir = os.path.join(out_dir, str(cam_id))\n",
    "        os.system(f\"cp -r {img_dir} {out_img_dir}\")\n",
    "\n",
    "    # break\n"
   ]
  },
  {
   "cell_type": "markdown",
   "metadata": {},
   "source": [
    "### Quickly check pkl file"
   ]
  },
  {
   "cell_type": "code",
   "execution_count": 1,
   "metadata": {},
   "outputs": [],
   "source": [
    "def load_pkl(pkl_path):\n",
    "    with open(pkl_path, 'rb') as f:\n",
    "        data = pickle.load(f)\n",
    "    return data"
   ]
  },
  {
   "cell_type": "code",
   "execution_count": 6,
   "metadata": {},
   "outputs": [
    {
     "name": "stdout",
     "output_type": "stream",
     "text": [
      "(80, 4742, 3) (116, 4742, 3) (80, 6490, 3)\n"
     ]
    }
   ],
   "source": [
    "pkl_path_1 = '/home/haoyuyh3/Documents/maxhsu/qqtt/gaussian-recon/gaussian-splatting/experiments_out_domain/double_lift_cloth_1_to_single_clift_cloth_1/inference.pkl'\n",
    "pkl_path_2 = '/home/haoyuyh3/Documents/maxhsu/qqtt/gaussian_data/double_lift_cloth_1/inference.pkl'\n",
    "pkl_path_3 = '/home/haoyuyh3/Documents/maxhsu/qqtt/gaussian_data/single_clift_cloth_1/inference.pkl'\n",
    "\n",
    "data_1 = load_pkl(pkl_path_1)\n",
    "data_2 = load_pkl(pkl_path_2)\n",
    "data_3 = load_pkl(pkl_path_3)\n",
    "\n",
    "print(data_1.shape, data_2.shape, data_3.shape)"
   ]
  },
  {
   "cell_type": "code",
   "execution_count": null,
   "metadata": {},
   "outputs": [],
   "source": []
  }
 ],
 "metadata": {
  "kernelspec": {
   "display_name": "gaussian_splatting",
   "language": "python",
   "name": "python3"
  },
  "language_info": {
   "codemirror_mode": {
    "name": "ipython",
    "version": 3
   },
   "file_extension": ".py",
   "mimetype": "text/x-python",
   "name": "python",
   "nbconvert_exporter": "python",
   "pygments_lexer": "ipython3",
   "version": "3.7.12"
  }
 },
 "nbformat": 4,
 "nbformat_minor": 2
}
